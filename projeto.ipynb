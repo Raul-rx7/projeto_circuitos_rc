{
  "nbformat": 4,
  "nbformat_minor": 0,
  "metadata": {
    "kernelspec": {
      "display_name": "Python 3",
      "language": "python",
      "name": "python3"
    },
    "language_info": {
      "codemirror_mode": {
        "name": "ipython",
        "version": 3
      },
      "file_extension": ".py",
      "mimetype": "text/x-python",
      "name": "python",
      "nbconvert_exporter": "python",
      "pygments_lexer": "ipython3",
      "version": "3.7.3"
    },
    "colab": {
      "name": "pre-projeto.ipynb",
      "provenance": [],
      "include_colab_link": true
    }
  },
  "cells": [
    {
      "cell_type": "markdown",
      "metadata": {
        "id": "view-in-github",
        "colab_type": "text"
      },
      "source": [
        "<a href=\"https://colab.research.google.com/github/Raul-rx7/projeto_circuitos_rc/blob/main/projeto.ipynb\" target=\"_parent\"><img src=\"https://colab.research.google.com/assets/colab-badge.svg\" alt=\"Open In Colab\"/></a>"
      ]
    },
    {
      "cell_type": "markdown",
      "metadata": {
        "id": "mV29Not2H8v9"
      },
      "source": [
        "# Ensino de Circuitos-RC Usando Python\n",
        "\n",
        "O conteúdo de circuito R-C é parte fundamental no ensino de eletromagnetismo, pois o mesmo abre espaço para melhor compreensão do comportamento de resistores e capacitores, como funciona o efeito joule no resistor e como o valor da capacitância influencia no armazenamento de energia. Essas ideias precisam ser passadas de maneira que os alunos possam compreender melhor o conteúdo. Então, visando contribuir para as boas práticas de ensino de física, o presente trabalho tem como objetivo apresentar um produto educacional para auxiliar o ensino de circuitos R-C utilizando a linguagem de programação python, por meio da análise de gráficos a partir das simulações realizadas."
      ]
    },
    {
      "cell_type": "code",
      "metadata": {
        "id": "gQYKf2DQf8h6"
      },
      "source": [
        "# 1º PASSO: Rodar os códigos de importação das bibliotecas necessárias\n",
        "# Obs.: Não rodar as próximas células de códigos sem rodar essa primeiro.\n",
        "import pandas as pd \n",
        "import matplotlib.pyplot as plt\n",
        "import numpy as np\n",
        "\n",
        "%matplotlib inline"
      ],
      "execution_count": 1,
      "outputs": []
    },
    {
      "cell_type": "markdown",
      "source": [
        "## Circuitos RC: uma breve revisão\n",
        "\n",
        "- Carregando o capacitor:\n",
        "$$q = cv(1 - e^{-t/T})$$\n",
        "\n",
        "$$i = \\frac{v}{R} e^{-t/T}$$\n",
        "\n",
        "- Descarregando o capacitor:\n",
        "$$q_{2} = Q_{0} e^{-t/T}$$\n",
        "\n",
        "\n",
        "$$i_{2} = -\\frac{Q_{0}}{RC} e^{-t/T} = I_{0}e^{-t/T}$$\n",
        "\n",
        "- Lembrando alguns prefixos para as potências de dez: \n",
        "  - $k$ (kilo) : $10^{3}$\n",
        "  - $c$ (centi) : $10^{-2}$\n",
        "  - $m$ (mili) : $10^{-3}$\n",
        "  - $\\mu$ (micro) : $10^{-6}$\n",
        "  - $n$ (nano) : $10^{-9}$\n",
        "  - $p$ (pico) : $10^{-12}$\n",
        "  - $f$ (femto) : $10^{-15}$"
      ],
      "metadata": {
        "id": "pQgPK08Sqqx6"
      }
    },
    {
      "cell_type": "code",
      "source": [
        "# 2º PASSO:\n",
        "\n",
        "############### DEFINIÇÃO DAS FUNÇÕES DESCRITAS ACIMA ################ \n",
        "#  OBS.: AS FUNÇÕES ABAIXO PODEM SER UTILIZADAS A QUALQUER MOMENTO   #\n",
        "######################################################################\n",
        "\n",
        "# Circuito R-C\n",
        "# Carregando um capacitor:\n",
        "def Q(c, r, v, t):\n",
        "  return (c*v)*(1 - np.exp(-t/(r*c)))\n",
        "\n",
        "\n",
        "# Corrente instantânea\n",
        "def I(c, r, v, t):\n",
        "  return v*(np.exp(-t/(r*c)))/r\n",
        "\n",
        "\n",
        "# Descarregando um capacitor:\n",
        "def Q2(c, r, v, t):\n",
        "  #      Q0 : ponto de partida (ao carregar) \n",
        "  return Q(c, r, v, t).max()*np.exp(-t/(r*c))\n",
        "\n",
        "\n",
        "# Corrente instantânea\n",
        "def I2(c, r, v, t):\n",
        "  return -Q2(c, r, v, t)/(r*c)"
      ],
      "metadata": {
        "id": "e5hVb3jKm01N"
      },
      "execution_count": 2,
      "outputs": []
    },
    {
      "cell_type": "code",
      "source": [
        "# PROCEDIMENTO 1: 10 kOhms e 470 uF/10V\n",
        "# 3º PASSO: Simulações de carga e descarga do capacitor.\n",
        "\n",
        "# É preciso indicar os valores de capacitância (C), resistência (R), \n",
        "# voltagem (V) e o tempo de observação (t), \n",
        "# para simulação de carga e descarga.\n",
        "\n",
        "# Obs.: Atenção com as unidades de medidas e potências de dez!\n",
        " \n",
        "C = 470*1e-6        # Farad\n",
        "R = 10*1e3          # Ohms\n",
        "V = 10                    # Volts\n",
        "\n",
        "# Passo do tempo para simulação\n",
        "#t = np.array(list(np.arange(0, 35, 5)) + list(np.arange(40, 90, 10)) + [100, 120])\n",
        "t = np.arange(0, 120)\n",
        "\n",
        "q = Q(C, R, V, t)         # Chamando a função de carga no carregamento\n",
        "i = I(C, R, V, t)         # Chamando a função de corrente no carregamento \n",
        "\n",
        "q2 = Q2(C, R, V, t)       # Chamando a função de carga no descarregamento\n",
        "i2 = I2(C, R, V, t)       # Chamando a função de corrente no descarregamento\n",
        "\n",
        "# Carga e descarga sob o ponto de vista da d.d.p.\n",
        "fig = plt.figure(figsize=(10, 5))\n",
        "plt.plot(t, q/C, color=\"green\", label=\"Carga\", linewidth=3.5) # Vc = q/C\n",
        "plt.plot(t, q2/C, color=\"orange\", label=\"Descarga\", linewidth=3.5)\n",
        "plt.xlabel(\"t(s)\")\n",
        "plt.ylabel(\"V(Volts)\")\n",
        "plt.title(r\"Circuito R-C: $10 k\\Omega \\ | \\ 470 \\mu F$\")\n",
        "plt.grid()\n",
        "plt.legend(loc=0)\n",
        "plt.show()\n",
        "fig.savefig('fig1.png') # Formatos: (.png) ; (.jpg) ; (.pdf), por exemplo.\n",
        "plt.close()\n",
        "\n",
        "print()\n",
        "\n",
        "# Carga e descarga sob o ponto de vista da corrente.\n",
        "fig = plt.figure(figsize=(10, 5))\n",
        "plt.plot(t, i, label= \"Carga\", linewidth=3.5)\n",
        "plt.plot(t, i2, label= \"Descarga\", linewidth=3.5)\n",
        "\n",
        "plt.xlabel(\"t(s)\")\n",
        "plt.ylabel(\"i(A)\")\n",
        "plt.title(r\"Circuito R-C: $10 k\\Omega \\ | \\ 470 \\mu F$\")\n",
        "plt.grid()\n",
        "plt.legend(loc=0)\n",
        "plt.show()\n",
        "fig.savefig('fig2.png')\n",
        "plt.close()"
      ],
      "metadata": {
        "colab": {
          "base_uri": "https://localhost:8080/",
          "height": 704
        },
        "id": "L3p4GOtmubr-",
        "outputId": "232ecdf1-6c85-4cfa-e79c-182e7fea34d5"
      },
      "execution_count": 9,
      "outputs": [
        {
          "output_type": "display_data",
          "data": {
            "text/plain": [
              "<Figure size 720x360 with 1 Axes>"
            ],
            "image/png": "[encoded data removed]"
          },
          "metadata": {
            "needs_background": "light"
          }
        },
        {
          "output_type": "stream",
          "name": "stdout",
          "text": [
            "\n"
          ]
        },
        {
          "output_type": "display_data",
          "data": {
            "text/plain": [
              "<Figure size 720x360 with 1 Axes>"
            ],
            "image/png": "[encoded data removed]"
          },
          "metadata": {
            "needs_background": "light"
          }
        }
      ]
    },
    {
      "cell_type": "code",
      "source": [],
      "metadata": {
        "id": "EaTBrlM6qCtp"
      },
      "execution_count": null,
      "outputs": []
    },
    {
      "cell_type": "code",
      "source": [],
      "metadata": {
        "id": "ei1xm7zEzShm"
      },
      "execution_count": null,
      "outputs": []
    },
    {
      "cell_type": "markdown",
      "metadata": {
        "id": "7HvdZX_DL5yn"
      },
      "source": [
        "### Resultados da teoria\n",
        "- Acima segue as simulações realizadas a partir da teoria;\n",
        "- Note que os parâmetros (os dados) podem ser modificados, tais como a **capacitância**, **resistência** e **ddp**, assim como **tempo (seg)** de observação da simulação."
      ]
    },
    {
      "cell_type": "markdown",
      "source": [
        "---\n",
        "## EXEMPLO 27.12 - Sears e Zemansky - Física III - Young & Freedman - 10ª edição\n",
        "####Carregando um capacitor\n",
        "Um resistor com resistências 10 M$Ω$ é conectado em série com um capacitor cuja capacitância é de 1,0 $\\mu$F e com uma bateria de fem igual a 12 V. Antes de a chave ser fechada no instante t = 0, o capacitor está descarregado. \n",
        "\n",
        "a) Qual é a constante de tempo? \n",
        "\n",
        "b) Qual é a fração da carga final que está sobre uma das placas quando $t = 46 s$?\n",
        "\n",
        "c)Qual é a fração da corrente inicial que permanece quando t = 46 s? "
      ],
      "metadata": {
        "id": "4VfxLMFW678f"
      }
    },
    {
      "cell_type": "code",
      "source": [
        "# As funções definidas no 2ª passo, podem ser utilizadas aqui também.\n",
        "# Primeiro é preciso definir a resistência, capacitância e tempo.\n",
        "R = 10*10**6 \n",
        "C = 10**(-6)\n",
        "V = 12\n",
        "t = 46  # No instante 46 seg. \n",
        "\n",
        "\n",
        "print(f\"Solução\\na) {R*C}\")\n",
        "print(f\"b) {Q(C, R, V, t)/(C*V)}\")\n",
        "print(f\"c) {I(C, R, V, t)/(V/R)}\")"
      ],
      "metadata": {
        "colab": {
          "base_uri": "https://localhost:8080/"
        },
        "id": "zS5V6X4U668u",
        "outputId": "e0cc6df9-d875-4a5a-81dc-e19904c0098c"
      },
      "execution_count": null,
      "outputs": [
        {
          "output_type": "stream",
          "name": "stdout",
          "text": [
            "Solução\n",
            "a) 10.0\n",
            "b) 0.9899481642553665\n",
            "c) 0.010051835744633588 = 1.0051835744633588 \n"
          ]
        }
      ]
    },
    {
      "cell_type": "markdown",
      "source": [
        "Depois de um tempo igual a 4,6 constantes de tempo, a corrente diminui para 1% do seu valor inicial."
      ],
      "metadata": {
        "id": "DZkPD4MyAruU"
      }
    }
  ]
}